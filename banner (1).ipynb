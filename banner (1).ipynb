{
  "nbformat": 4,
  "nbformat_minor": 0,
  "metadata": {
    "colab": {
      "name": "banner.ipynb",
      "provenance": [],
      "collapsed_sections": []
    },
    "kernelspec": {
      "name": "python3",
      "display_name": "Python 3"
    },
    "language_info": {
      "name": "python"
    }
  },
  "cells": [
    {
      "cell_type": "code",
      "execution_count": 3,
      "metadata": {
        "colab": {
          "base_uri": "https://localhost:8080/"
        },
        "id": "QrPH6xYMzu2V",
        "outputId": "f6013dba-3b37-4855-d54a-652767f28323"
      },
      "outputs": [
        {
          "output_type": "stream",
          "name": "stdout",
          "text": [
            "[[  6   1   1   1]\n",
            " [  0   6   1   2]\n",
            " [  0   0  15   8]\n",
            " [  0   2   0 156]]\n",
            "0.9195979899497487\n",
            "[[ 30  11]\n",
            " [  2 156]]\n"
          ]
        }
      ],
      "source": [
        "from sklearn.metrics import confusion_matrix, accuracy_score\n",
        "import pandas as pd\n",
        "import numpy as np\n",
        "url = 'https://raw.githubusercontent.com/tianzedong/cookie-scan/main/Cookies%20-%20cookie-scripts%20audit.csv'\n",
        "df = pd.read_csv(url)\n",
        "\n",
        "y_pred = df[\"pred\"].to_numpy()\n",
        "y_act = df[\"act\"].to_numpy()\n",
        "print(confusion_matrix(y_act, y_pred))\n",
        "print(accuracy_score(y_act, y_pred))\n",
        "\n",
        "aggregate_matrix = []\n",
        "aggregate_matrix.append([30, 11])\n",
        "aggregate_matrix.append([2, 156])\n",
        "print(np.matrix(aggregate_matrix))"
      ]
    }
  ]
}