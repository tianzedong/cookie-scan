{
  "nbformat": 4,
  "nbformat_minor": 0,
  "metadata": {
    "colab": {
      "name": "banner.ipynb",
      "provenance": [],
      "collapsed_sections": []
    },
    "kernelspec": {
      "name": "python3",
      "display_name": "Python 3"
    },
    "language_info": {
      "name": "python"
    }
  },
  "cells": [
    {
      "cell_type": "code",
      "execution_count": 10,
      "metadata": {
        "colab": {
          "base_uri": "https://localhost:8080/"
        },
        "id": "QrPH6xYMzu2V",
        "outputId": "7ba3dafa-8000-4cf8-974d-3043cbfcf105"
      },
      "outputs": [
        {
          "output_type": "stream",
          "name": "stdout",
          "text": [
            "[[  6   1   1   1]\n",
            " [  0   6   1   2]\n",
            " [  0   0  15   8]\n",
            " [  0   2   0 156]]\n",
            "0.9195979899497487\n"
          ]
        }
      ],
      "source": [
        "from sklearn.metrics import confusion_matrix, accuracy_score\n",
        "import pandas as pd\n",
        "import numpy as np\n",
        "url = 'https://raw.githubusercontent.com/tianzedong/cookie-scan/main/Cookies%20-%20cookie-scripts%20audit.csv'\n",
        "df = pd.read_csv(url)\n",
        "\n",
        "y_pred = df[\"pred\"].to_numpy()\n",
        "y_act = df[\"act\"].to_numpy()\n",
        "print(confusion_matrix(y_act, y_pred))\n",
        "print(accuracy_score(y_act, y_pred))\n"
      ]
    }
  ]
}